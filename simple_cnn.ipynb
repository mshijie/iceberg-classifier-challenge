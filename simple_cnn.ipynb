{
 "cells": [
  {
   "cell_type": "code",
   "execution_count": null,
   "metadata": {},
   "outputs": [],
   "source": [
    "import pandas as pd \n",
    "import numpy as np \n",
    "import cv2\n",
    "\n",
    "from keras import layers\n",
    "from keras.models import Sequential, Model\n",
    "from keras.layers import Dense, Dropout, Flatten, Activation, Input, AveragePooling2D\n",
    "from keras.layers import Conv2D, MaxPooling2D\n",
    "from keras.callbacks import EarlyStopping, ModelCheckpoint, ReduceLROnPlateau\n",
    "from keras.layers.normalization import BatchNormalization\n",
    "from keras.optimizers import Adam\n",
    "\n",
    "\n",
    "np.random.seed(42) "
   ]
  },
  {
   "cell_type": "code",
   "execution_count": null,
   "metadata": {},
   "outputs": [],
   "source": [
    "data_dir = \"/data\"\n",
    "output_dir = \"/output\""
   ]
  },
  {
   "cell_type": "code",
   "execution_count": null,
   "metadata": {},
   "outputs": [],
   "source": [
    "df_train = pd.read_json(data_dir + '/train.json') "
   ]
  },
  {
   "cell_type": "code",
   "execution_count": null,
   "metadata": {},
   "outputs": [],
   "source": [
    "def get_scaled_imgs(df):\n",
    "    imgs = []\n",
    "    \n",
    "    for i, row in df.iterrows():\n",
    "        #make 75x75 image\n",
    "        band_1 = np.array(row['band_1']).reshape(75, 75)\n",
    "        band_2 = np.array(row['band_2']).reshape(75, 75)\n",
    "        band_3 = band_1 + band_2 # plus since log(x*y) = log(x) + log(y)\n",
    "        \n",
    "        # Rescale\n",
    "        a = (band_1 - band_1.mean()) / (band_1.max() - band_1.min())\n",
    "        b = (band_2 - band_2.mean()) / (band_2.max() - band_2.min())\n",
    "        c = (band_3 - band_3.mean()) / (band_3.max() - band_3.min())\n",
    "\n",
    "        imgs.append(np.dstack((a, b, c)))\n",
    "\n",
    "    return np.array(imgs)"
   ]
  },
  {
   "cell_type": "code",
   "execution_count": null,
   "metadata": {},
   "outputs": [],
   "source": [
    "Xtrain = get_scaled_imgs(df_train)\n",
    "Ytrain = np.array(df_train['is_iceberg'])"
   ]
  },
  {
   "cell_type": "code",
   "execution_count": null,
   "metadata": {},
   "outputs": [],
   "source": [
    "def get_more_images(imgs):\n",
    "    \n",
    "    more_images = []\n",
    "    vert_flip_imgs = []\n",
    "    hori_flip_imgs = []\n",
    "      \n",
    "    for i in range(0,imgs.shape[0]):\n",
    "        a=imgs[i,:,:,0]\n",
    "        b=imgs[i,:,:,1]\n",
    "        c=imgs[i,:,:,2]\n",
    "        \n",
    "        av=cv2.flip(a,1)\n",
    "        ah=cv2.flip(a,0)\n",
    "        bv=cv2.flip(b,1)\n",
    "        bh=cv2.flip(b,0)\n",
    "        cv=cv2.flip(c,1)\n",
    "        ch=cv2.flip(c,0)\n",
    "        \n",
    "        vert_flip_imgs.append(np.dstack((av, bv, cv)))\n",
    "        hori_flip_imgs.append(np.dstack((ah, bh, ch)))\n",
    "      \n",
    "    v = np.array(vert_flip_imgs)\n",
    "    h = np.array(hori_flip_imgs)\n",
    "       \n",
    "    more_images = np.concatenate((imgs,v,h))\n",
    "    \n",
    "    return more_images"
   ]
  },
  {
   "cell_type": "code",
   "execution_count": null,
   "metadata": {},
   "outputs": [],
   "source": [
    "Xtr_more = get_more_images(Xtrain) "
   ]
  },
  {
   "cell_type": "code",
   "execution_count": null,
   "metadata": {},
   "outputs": [],
   "source": [
    "Ytr_more = np.concatenate((Ytrain,Ytrain,Ytrain))"
   ]
  },
  {
   "cell_type": "code",
   "execution_count": 80,
   "metadata": {},
   "outputs": [
    {
     "name": "stdout",
     "output_type": "stream",
     "text": [
      "__________________________________________________________________________________________________\n",
      "Layer (type)                    Output Shape         Param #     Connected to                     \n",
      "==================================================================================================\n",
      "input_35 (InputLayer)           (None, 75, 75, 3)    0                                            \n",
      "__________________________________________________________________________________________________\n",
      "branch2x2_conv (Conv2D)         (None, 75, 75, 32)   384         input_35[0][0]                   \n",
      "__________________________________________________________________________________________________\n",
      "branch3x3_conv (Conv2D)         (None, 75, 75, 32)   864         input_35[0][0]                   \n",
      "__________________________________________________________________________________________________\n",
      "branch4x4_conv (Conv2D)         (None, 75, 75, 32)   1536        input_35[0][0]                   \n",
      "__________________________________________________________________________________________________\n",
      "branch2x2_bn (BatchNormalizatio (None, 75, 75, 32)   96          branch2x2_conv[0][0]             \n",
      "__________________________________________________________________________________________________\n",
      "branch3x3_bn (BatchNormalizatio (None, 75, 75, 32)   96          branch3x3_conv[0][0]             \n",
      "__________________________________________________________________________________________________\n",
      "branch4x4_bn (BatchNormalizatio (None, 75, 75, 32)   96          branch4x4_conv[0][0]             \n",
      "__________________________________________________________________________________________________\n",
      "branch2x2 (Activation)          (None, 75, 75, 32)   0           branch2x2_bn[0][0]               \n",
      "__________________________________________________________________________________________________\n",
      "branch3x3 (Activation)          (None, 75, 75, 32)   0           branch3x3_bn[0][0]               \n",
      "__________________________________________________________________________________________________\n",
      "branch4x4 (Activation)          (None, 75, 75, 32)   0           branch4x4_bn[0][0]               \n",
      "__________________________________________________________________________________________________\n",
      "average_pooling2d_26 (AveragePo (None, 25, 25, 32)   0           branch2x2[0][0]                  \n",
      "__________________________________________________________________________________________________\n",
      "average_pooling2d_27 (AveragePo (None, 25, 25, 32)   0           branch3x3[0][0]                  \n",
      "__________________________________________________________________________________________________\n",
      "average_pooling2d_28 (AveragePo (None, 25, 25, 32)   0           branch4x4[0][0]                  \n",
      "__________________________________________________________________________________________________\n",
      "mixed0 (Concatenate)            (None, 25, 25, 96)   0           average_pooling2d_26[0][0]       \n",
      "                                                                 average_pooling2d_27[0][0]       \n",
      "                                                                 average_pooling2d_28[0][0]       \n",
      "__________________________________________________________________________________________________\n",
      "average_pooling2d_29 (AveragePo (None, 9, 9, 96)     0           mixed0[0][0]                     \n",
      "__________________________________________________________________________________________________\n",
      "conv2d_91 (Conv2D)              (None, 9, 9, 40)     34560       average_pooling2d_29[0][0]       \n",
      "__________________________________________________________________________________________________\n",
      "batch_normalization_91 (BatchNo (None, 9, 9, 40)     120         conv2d_91[0][0]                  \n",
      "__________________________________________________________________________________________________\n",
      "activation_318 (Activation)     (None, 9, 9, 40)     0           batch_normalization_91[0][0]     \n",
      "__________________________________________________________________________________________________\n",
      "dropout_11 (Dropout)            (None, 9, 9, 40)     0           activation_318[0][0]             \n",
      "__________________________________________________________________________________________________\n",
      "average_pooling2d_30 (AveragePo (None, 3, 3, 40)     0           dropout_11[0][0]                 \n",
      "__________________________________________________________________________________________________\n",
      "conv2d_92 (Conv2D)              (None, 3, 3, 80)     28800       average_pooling2d_30[0][0]       \n",
      "__________________________________________________________________________________________________\n",
      "batch_normalization_92 (BatchNo (None, 3, 3, 80)     240         conv2d_92[0][0]                  \n",
      "__________________________________________________________________________________________________\n",
      "activation_319 (Activation)     (None, 3, 3, 80)     0           batch_normalization_92[0][0]     \n",
      "__________________________________________________________________________________________________\n",
      "dropout_12 (Dropout)            (None, 3, 3, 80)     0           activation_319[0][0]             \n",
      "__________________________________________________________________________________________________\n",
      "flatten_30 (Flatten)            (None, 720)          0           dropout_12[0][0]                 \n",
      "__________________________________________________________________________________________________\n",
      "dense_92 (Dense)                (None, 256)          184576      flatten_30[0][0]                 \n",
      "__________________________________________________________________________________________________\n",
      "dense_93 (Dense)                (None, 256)          65792       dense_92[0][0]                   \n",
      "__________________________________________________________________________________________________\n",
      "dense_94 (Dense)                (None, 1)            257         dense_93[0][0]                   \n",
      "==================================================================================================\n",
      "Total params: 317,417\n",
      "Trainable params: 316,985\n",
      "Non-trainable params: 432\n",
      "__________________________________________________________________________________________________\n"
     ]
    }
   ],
   "source": [
    "def conv2d_bn(x,\n",
    "              filters,\n",
    "              num_row,\n",
    "              num_col,\n",
    "              padding='same',\n",
    "              strides=(1, 1),\n",
    "              name=None):\n",
    "    if name is not None:\n",
    "        bn_name = name + '_bn'\n",
    "        conv_name = name + '_conv'\n",
    "    else:\n",
    "        bn_name = None\n",
    "        conv_name = None\n",
    "    x = Conv2D(\n",
    "        filters, (num_row, num_col),\n",
    "        strides=strides,\n",
    "        padding=padding,\n",
    "        use_bias=False,\n",
    "        name=conv_name)(x)\n",
    "    x = BatchNormalization(axis=3, scale=False, name=bn_name)(x)\n",
    "    x = Activation('relu', name=name)(x)\n",
    "    return x\n",
    "\n",
    "def getModel():\n",
    "    x_input = Input(shape=(75,75, 3))\n",
    "    \n",
    "    branch2x2 = conv2d_bn(x_input, 32, 2, 2, name=\"branch2x2\")\n",
    "    branch3x3 = conv2d_bn(x_input, 32, 3, 3, name=\"branch3x3\")\n",
    "    branch4x4 = conv2d_bn(x_input, 32, 4, 4, name=\"branch4x4\")\n",
    "    \n",
    "    branch2x2p = AveragePooling2D((3, 3), strides=(3, 3), padding='same')(branch2x2)\n",
    "    branch3x3p = AveragePooling2D((3, 3), strides=(3, 3), padding='same')(branch3x3)\n",
    "    branch4x4p = AveragePooling2D((3, 3), strides=(3, 3), padding='same')(branch4x4)\n",
    "    \n",
    "    x = layers.concatenate(\n",
    "        [branch2x2p, branch3x3p, branch4x4p],\n",
    "        axis=3,\n",
    "        name='mixed0')\n",
    "\n",
    "    x = AveragePooling2D((3, 3), strides=(3, 3), padding='same')(x)\n",
    "    x = conv2d_bn(x, 40, 3, 3)\n",
    "    x = Dropout(0.5)(x)\n",
    "    \n",
    "    x = AveragePooling2D((3, 3), strides=(3, 3), padding='same')(x)\n",
    "    x = conv2d_bn(x, 80, 3, 3)\n",
    "    x = Dropout(0.5)(x)\n",
    "    \n",
    "    x = Flatten()(x)\n",
    "    x = Dense(256, activation='relu')(x)\n",
    "    x = Dropout(0.5)(x)\n",
    "    \n",
    "    x = Dense(256, activation='relu')(x)\n",
    "    x = Dense(1, activation=\"sigmoid\")(x)\n",
    "\n",
    "    optimizer = Adam(lr=0.001, decay=1e-6)\n",
    "    model = Model(inputs=[x_input], outputs=[x])\n",
    "    model.compile(loss='binary_crossentropy', optimizer=optimizer, metrics=['accuracy'])\n",
    "    \n",
    "    return model\n",
    "\n",
    "model = getModel()\n",
    "model.summary()"
   ]
  },
  {
   "cell_type": "code",
   "execution_count": null,
   "metadata": {
    "scrolled": false
   },
   "outputs": [],
   "source": [
    "batch_size = 32\n",
    "earlyStopping = EarlyStopping(monitor='val_loss', patience=10, verbose=0, mode='min')\n",
    "mcp_save = ModelCheckpoint(output_dir + '/.mdl_wts.hdf5', save_best_only=True, monitor='val_loss', mode='min')\n",
    "reduce_lr_loss = ReduceLROnPlateau(monitor='val_loss', factor=0.1, patience=7, verbose=1, epsilon=1e-4, mode='min')"
   ]
  },
  {
   "cell_type": "code",
   "execution_count": null,
   "metadata": {},
   "outputs": [],
   "source": [
    "model.fit(Xtr_more, Ytr_more, batch_size=batch_size, epochs=50, verbose=1\n",
    "          , callbacks=[earlyStopping, mcp_save, reduce_lr_loss], validation_split=0.25)"
   ]
  },
  {
   "cell_type": "code",
   "execution_count": null,
   "metadata": {},
   "outputs": [],
   "source": [
    "model.load_weights(filepath = output_dir + '/.mdl_wts.hdf5')\n",
    "\n",
    "score = model.evaluate(Xtrain, Ytrain, verbose=1)\n",
    "print('Train score:', score[0])\n",
    "print('Train accuracy:', score[1])"
   ]
  },
  {
   "cell_type": "code",
   "execution_count": null,
   "metadata": {},
   "outputs": [],
   "source": [
    "df_test = pd.read_json(data_dir + '/test.json')\n",
    "df_test.inc_angle = df_test.inc_angle.replace('na',0)\n",
    "Xtest = (get_scaled_imgs(df_test))\n",
    "pred_test = model.predict(Xtest)\n",
    "\n",
    "submission = pd.DataFrame({'id': df_test[\"id\"], 'is_iceberg': pred_test.reshape((pred_test.shape[0]))})\n",
    "print(submission.head(10))\n",
    "\n",
    "submission.to_csv(output_dir + '/submission.csv', index=False)"
   ]
  }
 ],
 "metadata": {
  "kernelspec": {
   "display_name": "Python 3",
   "language": "python",
   "name": "python3"
  },
  "language_info": {
   "codemirror_mode": {
    "name": "ipython",
    "version": 3
   },
   "file_extension": ".py",
   "mimetype": "text/x-python",
   "name": "python",
   "nbconvert_exporter": "python",
   "pygments_lexer": "ipython3",
   "version": "3.6.3"
  }
 },
 "nbformat": 4,
 "nbformat_minor": 2
}
